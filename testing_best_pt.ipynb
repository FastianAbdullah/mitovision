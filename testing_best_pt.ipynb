{
 "cells": [
  {
   "cell_type": "code",
   "execution_count": null,
   "metadata": {},
   "outputs": [
    {
     "ename": "",
     "evalue": "",
     "output_type": "error",
     "traceback": [
      "\u001b[1;31mThe kernel failed to start as the Python Environment 'Python 3.12.3' is no longer available. Consider selecting another kernel or refreshing the list of Python Environments."
     ]
    }
   ],
   "source": [
    "from flask import Flask, request, jsonify\n",
    "#from torchvision import transforms\n",
    "from PIL import Image\n",
    "import numpy as np\n",
    "import torch\n",
    "from ultralytics import YOLO\n",
    "import os\n",
    "\n",
    "app = Flask(__name__)\n",
    "\n",
    "# Load the pre-trained YOLO model\n",
    "model = YOLO('best.pt')\n",
    "\n",
    "# Define classes\n",
    "classes = ['mitosis', 'normal']\n",
    "\n",
    "@app.route('/predict', methods=['GET'])\n",
    "def predict():\n",
    "    # Get the image filename from the request query parameter\n",
    "    filename = request.args.get('image_filename', '')\n",
    "    \n",
    "    # Validate the image_filename\n",
    "    if not filename:\n",
    "        return jsonify({'error': 'image_filename parameter is missing.'}), 400\n",
    "    \n",
    "    # Read the image file\n",
    "    base_path = r\"mitovision\\storage\\app\\public\\images\"\n",
    "    \n",
    "    image_path = os.path.join(base_path, filename)\n",
    "\n",
    "    image_path = image_path.replace('\\\\', '/')\n",
    "    try:\n",
    "        image = Image.open(image_path).convert('RGB')\n",
    "    except Exception as e:\n",
    "        return jsonify({'error': f'Error reading the image file: {image_path}'}), 400\n",
    "    \n",
    "    # Perform prediction\n",
    "    with torch.no_grad():\n",
    "        outputs = model(image)\n",
    "\n",
    "    # Get prediction result\n",
    "    prediction = classes[outputs[0].probs.data.argmax()]\n",
    "    print(\"Predicted class:\", prediction)\n",
    "    \n",
    "    # Return prediction result\n",
    "    return jsonify({'prediction': prediction, 'image_filename': filename})\n",
    "\n",
    "if __name__ == '__main__':\n",
    "    try:\n",
    "        app.debug = True\n",
    "        app.run(host='0.0.0.0', use_reloader=False, port=5001)\n",
    "    except Exception as e:\n",
    "        print(f\"Exception Occurred: {e}\")\n"
   ]
  },
  {
   "cell_type": "code",
   "execution_count": null,
   "metadata": {},
   "outputs": [],
   "source": []
  }
 ],
 "metadata": {
  "kernelspec": {
   "display_name": "base",
   "language": "python",
   "name": "python3"
  },
  "language_info": {
   "codemirror_mode": {
    "name": "ipython",
    "version": 3
   },
   "file_extension": ".py",
   "mimetype": "text/x-python",
   "name": "python",
   "nbconvert_exporter": "python",
   "pygments_lexer": "ipython3",
   "version": "3.12.3"
  }
 },
 "nbformat": 4,
 "nbformat_minor": 2
}
