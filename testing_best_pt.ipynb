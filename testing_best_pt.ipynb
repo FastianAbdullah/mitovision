{
 "cells": [
  {
   "cell_type": "code",
   "execution_count": 36,
   "metadata": {},
   "outputs": [
    {
     "name": "stdout",
     "output_type": "stream",
     "text": [
      " * Serving Flask app '__main__'\n",
      " * Debug mode: on\n"
     ]
    },
    {
     "name": "stderr",
     "output_type": "stream",
     "text": [
      "WARNING: This is a development server. Do not use it in a production deployment. Use a production WSGI server instead.\n",
      " * Running on all addresses (0.0.0.0)\n",
      " * Running on http://127.0.0.1:5001\n",
      " * Running on http://192.168.10.19:5001\n",
      "Press CTRL+C to quit\n",
      "127.0.0.1 - - [20/Apr/2024 22:23:27] \"POST /predict HTTP/1.1\" 405 -\n"
     ]
    },
    {
     "name": "stdout",
     "output_type": "stream",
     "text": [
      "\n",
      "0: 128x128 Normal 0.83, Mitosis 0.17, 103.3ms\n",
      "Speed: 5.7ms preprocess, 103.3ms inference, 0.0ms postprocess per image at shape (1, 3, 128, 128)\n"
     ]
    },
    {
     "name": "stderr",
     "output_type": "stream",
     "text": [
      "127.0.0.1 - - [20/Apr/2024 22:24:19] \"GET /predict?image_filename=wUJ4MIOaaxtdOA7SKG9LRXz6u2HkIJDeZDKkpOP2.png HTTP/1.1\" 200 -\n"
     ]
    },
    {
     "name": "stdout",
     "output_type": "stream",
     "text": [
      "Predicted class: normal\n",
      "\n",
      "0: 128x128 Normal 0.83, Mitosis 0.17, 113.9ms\n",
      "Speed: 6.0ms preprocess, 113.9ms inference, 0.0ms postprocess per image at shape (1, 3, 128, 128)\n"
     ]
    },
    {
     "name": "stderr",
     "output_type": "stream",
     "text": [
      "127.0.0.1 - - [20/Apr/2024 22:26:24] \"GET /predict?image_filename=OwvrNgGjSF0QU9btCA19QAUTqvHsV7XK0UBE8zpF.png HTTP/1.1\" 200 -\n"
     ]
    },
    {
     "name": "stdout",
     "output_type": "stream",
     "text": [
      "Predicted class: normal\n",
      "\n",
      "0: 128x128 Normal 0.83, Mitosis 0.17, 92.4ms\n",
      "Speed: 5.0ms preprocess, 92.4ms inference, 0.0ms postprocess per image at shape (1, 3, 128, 128)\n"
     ]
    },
    {
     "name": "stderr",
     "output_type": "stream",
     "text": [
      "127.0.0.1 - - [20/Apr/2024 22:32:27] \"GET /predict?image_filename=zLbS5avTjfOhrP5TpoE7mD23gZWuHBQCWFM0jJLr.png HTTP/1.1\" 200 -\n"
     ]
    },
    {
     "name": "stdout",
     "output_type": "stream",
     "text": [
      "Predicted class: normal\n",
      "\n",
      "0: 128x128 Mitosis 0.60, Normal 0.40, 93.7ms\n",
      "Speed: 66.9ms preprocess, 93.7ms inference, 0.0ms postprocess per image at shape (1, 3, 128, 128)\n"
     ]
    },
    {
     "name": "stderr",
     "output_type": "stream",
     "text": [
      "127.0.0.1 - - [20/Apr/2024 22:33:50] \"GET /predict?image_filename=5ERBmqVJiQO7f7Eskyf2ty6K2gDHvSOhBXK8mzr1.jpg HTTP/1.1\" 200 -\n"
     ]
    },
    {
     "name": "stdout",
     "output_type": "stream",
     "text": [
      "Predicted class: mitosis\n",
      "\n",
      "0: 128x128 Normal 0.99, Mitosis 0.01, 93.2ms\n",
      "Speed: 71.5ms preprocess, 93.2ms inference, 1.0ms postprocess per image at shape (1, 3, 128, 128)\n"
     ]
    },
    {
     "name": "stderr",
     "output_type": "stream",
     "text": [
      "127.0.0.1 - - [20/Apr/2024 22:34:51] \"GET /predict?image_filename=f3dehmaKD67Lrc8yadjC1PO4QKsff0DxIvnnm7jQ.jpg HTTP/1.1\" 200 -\n"
     ]
    },
    {
     "name": "stdout",
     "output_type": "stream",
     "text": [
      "Predicted class: normal\n",
      "\n",
      "0: 128x128 Normal 0.96, Mitosis 0.04, 82.5ms\n",
      "Speed: 58.4ms preprocess, 82.5ms inference, 1.0ms postprocess per image at shape (1, 3, 128, 128)\n"
     ]
    },
    {
     "name": "stderr",
     "output_type": "stream",
     "text": [
      "127.0.0.1 - - [20/Apr/2024 22:36:39] \"GET /predict?image_filename=X7OIvpB0HsWVJLlRlgEAm1zxnnIoDiKZxQfYZRG8.jpg HTTP/1.1\" 200 -\n"
     ]
    },
    {
     "name": "stdout",
     "output_type": "stream",
     "text": [
      "Predicted class: normal\n",
      "\n",
      "0: 128x128 Normal 0.55, Mitosis 0.45, 84.9ms\n",
      "Speed: 59.5ms preprocess, 84.9ms inference, 1.0ms postprocess per image at shape (1, 3, 128, 128)\n"
     ]
    },
    {
     "name": "stderr",
     "output_type": "stream",
     "text": [
      "127.0.0.1 - - [20/Apr/2024 22:36:46] \"GET /predict?image_filename=orYBViwzWfsvJzHPwKy3jNmRVoeWFTdRXbbCkLCO.jpg HTTP/1.1\" 200 -\n"
     ]
    },
    {
     "name": "stdout",
     "output_type": "stream",
     "text": [
      "Predicted class: normal\n",
      "\n",
      "0: 128x128 Normal 0.52, Mitosis 0.48, 82.3ms\n",
      "Speed: 61.8ms preprocess, 82.3ms inference, 1.2ms postprocess per image at shape (1, 3, 128, 128)\n"
     ]
    },
    {
     "name": "stderr",
     "output_type": "stream",
     "text": [
      "127.0.0.1 - - [20/Apr/2024 22:37:00] \"GET /predict?image_filename=dbFHxNb6u6EnSKE5E23UL14x8m3OEU6v2IVadzwM.jpg HTTP/1.1\" 200 -\n"
     ]
    },
    {
     "name": "stdout",
     "output_type": "stream",
     "text": [
      "Predicted class: normal\n",
      "\n",
      "0: 128x128 Normal 0.96, Mitosis 0.04, 79.1ms\n",
      "Speed: 53.4ms preprocess, 79.1ms inference, 1.1ms postprocess per image at shape (1, 3, 128, 128)\n"
     ]
    },
    {
     "name": "stderr",
     "output_type": "stream",
     "text": [
      "127.0.0.1 - - [20/Apr/2024 22:37:19] \"GET /predict?image_filename=6TUB1zj5E8TZh6d6T9ve9Uk7MHzmCJbBf92OKdV2.jpg HTTP/1.1\" 200 -\n"
     ]
    },
    {
     "name": "stdout",
     "output_type": "stream",
     "text": [
      "Predicted class: normal\n",
      "\n",
      "0: 128x128 Normal 0.86, Mitosis 0.14, 83.8ms\n",
      "Speed: 62.1ms preprocess, 83.8ms inference, 1.1ms postprocess per image at shape (1, 3, 128, 128)\n"
     ]
    },
    {
     "name": "stderr",
     "output_type": "stream",
     "text": [
      "127.0.0.1 - - [20/Apr/2024 22:37:49] \"GET /predict?image_filename=49NA71gLbYQof9jZFTLBWorovjWJ9f9enz8CA7Gm.jpg HTTP/1.1\" 200 -\n"
     ]
    },
    {
     "name": "stdout",
     "output_type": "stream",
     "text": [
      "Predicted class: normal\n",
      "\n",
      "0: 128x128 Normal 0.79, Mitosis 0.21, 83.9ms\n",
      "Speed: 55.3ms preprocess, 83.9ms inference, 2.1ms postprocess per image at shape (1, 3, 128, 128)\n"
     ]
    },
    {
     "name": "stderr",
     "output_type": "stream",
     "text": [
      "127.0.0.1 - - [20/Apr/2024 22:38:23] \"GET /predict?image_filename=sIW9Zrj5VTuldieWAmuZAOmEy8WVmPeJBqaWIcNf.jpg HTTP/1.1\" 200 -\n"
     ]
    },
    {
     "name": "stdout",
     "output_type": "stream",
     "text": [
      "Predicted class: normal\n"
     ]
    }
   ],
   "source": [
    "from flask import Flask, request, jsonify\n",
    "from torchvision import transforms\n",
    "from PIL import Image\n",
    "import numpy as np\n",
    "import torch\n",
    "from ultralytics import YOLO\n",
    "import os\n",
    "\n",
    "app = Flask(__name__)\n",
    "\n",
    "# Load the pre-trained YOLO model\n",
    "model = YOLO('best.pt')\n",
    "\n",
    "# Define classes\n",
    "classes = ['mitosis', 'normal']\n",
    "\n",
    "@app.route('/predict', methods=['GET'])\n",
    "def predict():\n",
    "    # Get the image filename from the request query parameter\n",
    "    filename = request.args.get('image_filename', '')\n",
    "    \n",
    "    # Validate the image_filename\n",
    "    if not filename:\n",
    "        return jsonify({'error': 'image_filename parameter is missing.'}), 400\n",
    "    \n",
    "    # Read the image file\n",
    "    base_path = r\"mitovision\\storage\\app\\public\\images\"\n",
    "    \n",
    "    image_path = os.path.join(base_path, filename)\n",
    "\n",
    "    image_path = image_path.replace('\\\\', '/')\n",
    "    try:\n",
    "        image = Image.open(image_path).convert('RGB')\n",
    "    except Exception as e:\n",
    "        return jsonify({'error': f'Error reading the image file: {image_path}'}), 400\n",
    "    \n",
    "    # Perform prediction\n",
    "    with torch.no_grad():\n",
    "        outputs = model(image)\n",
    "\n",
    "    # Get prediction result\n",
    "    prediction = classes[outputs[0].probs.data.argmax()]\n",
    "    print(\"Predicted class:\", prediction)\n",
    "    \n",
    "    # Return prediction result\n",
    "    return jsonify({'prediction': prediction, 'image_filename': filename})\n",
    "\n",
    "if __name__ == '__main__':\n",
    "    try:\n",
    "        app.debug = True\n",
    "        app.run(host='0.0.0.0', use_reloader=False, port=5001)\n",
    "    except Exception as e:\n",
    "        print(f\"Exception Occurred: {e}\")\n"
   ]
  },
  {
   "cell_type": "code",
   "execution_count": null,
   "metadata": {},
   "outputs": [],
   "source": []
  }
 ],
 "metadata": {
  "kernelspec": {
   "display_name": "base",
   "language": "python",
   "name": "python3"
  },
  "language_info": {
   "codemirror_mode": {
    "name": "ipython",
    "version": 3
   },
   "file_extension": ".py",
   "mimetype": "text/x-python",
   "name": "python",
   "nbconvert_exporter": "python",
   "pygments_lexer": "ipython3",
   "version": "3.11.7"
  }
 },
 "nbformat": 4,
 "nbformat_minor": 2
}
