{
  "cells": [
    {
      "cell_type": "markdown",
      "metadata": {
        "id": "Sj6CkOdBkgoB"
      },
      "source": [
        "## Importing Libraries"
      ]
    },
    {
      "cell_type": "code",
      "execution_count": null,
      "metadata": {
        "id": "GjXwaJeSTHwl"
      },
      "outputs": [],
      "source": [
        "import os\n",
        "import pandas as pd\n",
        "import tensorflow as tf\n",
        "import matplotlib.pyplot as plt\n",
        "import cv2\n",
        "import pathlib\n",
        "from tensorflow import keras\n",
        "from keras import layers\n",
        "from keras.preprocessing.image import ImageDataGenerator\n",
        "from keras.models import Sequential\n",
        "import numpy as np\n",
        "from PIL import Image"
      ]
    },
    {
      "cell_type": "code",
      "execution_count": null,
      "metadata": {
        "colab": {
          "base_uri": "https://localhost:8080/"
        },
        "id": "o2RlRe_LKt_w",
        "outputId": "54e1c997-5fbe-4f0f-ad55-17db6e7d1910"
      },
      "outputs": [
        {
          "output_type": "stream",
          "name": "stdout",
          "text": [
            "Drive already mounted at /content/drive; to attempt to forcibly remount, call drive.mount(\"/content/drive\", force_remount=True).\n"
          ]
        }
      ],
      "source": [
        "from google.colab import drive\n",
        "drive.mount('/content/drive')"
      ]
    },
    {
      "cell_type": "code",
      "execution_count": null,
      "metadata": {
        "id": "Q3stMkrPL3iU",
        "colab": {
          "base_uri": "https://localhost:8080/"
        },
        "outputId": "1de74102-79ff-478d-a8a0-a84f60fed40d"
      },
      "outputs": [
        {
          "output_type": "stream",
          "name": "stdout",
          "text": [
            "Requirement already satisfied: ultralytics in /usr/local/lib/python3.10/dist-packages (8.1.45)\n",
            "Requirement already satisfied: matplotlib>=3.3.0 in /usr/local/lib/python3.10/dist-packages (from ultralytics) (3.7.1)\n",
            "Requirement already satisfied: opencv-python>=4.6.0 in /usr/local/lib/python3.10/dist-packages (from ultralytics) (4.8.0.76)\n",
            "Requirement already satisfied: pillow>=7.1.2 in /usr/local/lib/python3.10/dist-packages (from ultralytics) (9.4.0)\n",
            "Requirement already satisfied: pyyaml>=5.3.1 in /usr/local/lib/python3.10/dist-packages (from ultralytics) (6.0.1)\n",
            "Requirement already satisfied: requests>=2.23.0 in /usr/local/lib/python3.10/dist-packages (from ultralytics) (2.31.0)\n",
            "Requirement already satisfied: scipy>=1.4.1 in /usr/local/lib/python3.10/dist-packages (from ultralytics) (1.11.4)\n",
            "Requirement already satisfied: torch>=1.8.0 in /usr/local/lib/python3.10/dist-packages (from ultralytics) (2.2.1+cu121)\n",
            "Requirement already satisfied: torchvision>=0.9.0 in /usr/local/lib/python3.10/dist-packages (from ultralytics) (0.17.1+cu121)\n",
            "Requirement already satisfied: tqdm>=4.64.0 in /usr/local/lib/python3.10/dist-packages (from ultralytics) (4.66.2)\n",
            "Requirement already satisfied: psutil in /usr/local/lib/python3.10/dist-packages (from ultralytics) (5.9.5)\n",
            "Requirement already satisfied: py-cpuinfo in /usr/local/lib/python3.10/dist-packages (from ultralytics) (9.0.0)\n",
            "Requirement already satisfied: thop>=0.1.1 in /usr/local/lib/python3.10/dist-packages (from ultralytics) (0.1.1.post2209072238)\n",
            "Requirement already satisfied: pandas>=1.1.4 in /usr/local/lib/python3.10/dist-packages (from ultralytics) (2.0.3)\n",
            "Requirement already satisfied: seaborn>=0.11.0 in /usr/local/lib/python3.10/dist-packages (from ultralytics) (0.13.1)\n",
            "Requirement already satisfied: contourpy>=1.0.1 in /usr/local/lib/python3.10/dist-packages (from matplotlib>=3.3.0->ultralytics) (1.2.1)\n",
            "Requirement already satisfied: cycler>=0.10 in /usr/local/lib/python3.10/dist-packages (from matplotlib>=3.3.0->ultralytics) (0.12.1)\n",
            "Requirement already satisfied: fonttools>=4.22.0 in /usr/local/lib/python3.10/dist-packages (from matplotlib>=3.3.0->ultralytics) (4.50.0)\n",
            "Requirement already satisfied: kiwisolver>=1.0.1 in /usr/local/lib/python3.10/dist-packages (from matplotlib>=3.3.0->ultralytics) (1.4.5)\n",
            "Requirement already satisfied: numpy>=1.20 in /usr/local/lib/python3.10/dist-packages (from matplotlib>=3.3.0->ultralytics) (1.25.2)\n",
            "Requirement already satisfied: packaging>=20.0 in /usr/local/lib/python3.10/dist-packages (from matplotlib>=3.3.0->ultralytics) (24.0)\n",
            "Requirement already satisfied: pyparsing>=2.3.1 in /usr/local/lib/python3.10/dist-packages (from matplotlib>=3.3.0->ultralytics) (3.1.2)\n",
            "Requirement already satisfied: python-dateutil>=2.7 in /usr/local/lib/python3.10/dist-packages (from matplotlib>=3.3.0->ultralytics) (2.8.2)\n",
            "Requirement already satisfied: pytz>=2020.1 in /usr/local/lib/python3.10/dist-packages (from pandas>=1.1.4->ultralytics) (2023.4)\n",
            "Requirement already satisfied: tzdata>=2022.1 in /usr/local/lib/python3.10/dist-packages (from pandas>=1.1.4->ultralytics) (2024.1)\n",
            "Requirement already satisfied: charset-normalizer<4,>=2 in /usr/local/lib/python3.10/dist-packages (from requests>=2.23.0->ultralytics) (3.3.2)\n",
            "Requirement already satisfied: idna<4,>=2.5 in /usr/local/lib/python3.10/dist-packages (from requests>=2.23.0->ultralytics) (3.6)\n",
            "Requirement already satisfied: urllib3<3,>=1.21.1 in /usr/local/lib/python3.10/dist-packages (from requests>=2.23.0->ultralytics) (2.0.7)\n",
            "Requirement already satisfied: certifi>=2017.4.17 in /usr/local/lib/python3.10/dist-packages (from requests>=2.23.0->ultralytics) (2024.2.2)\n",
            "Requirement already satisfied: filelock in /usr/local/lib/python3.10/dist-packages (from torch>=1.8.0->ultralytics) (3.13.3)\n",
            "Requirement already satisfied: typing-extensions>=4.8.0 in /usr/local/lib/python3.10/dist-packages (from torch>=1.8.0->ultralytics) (4.10.0)\n",
            "Requirement already satisfied: sympy in /usr/local/lib/python3.10/dist-packages (from torch>=1.8.0->ultralytics) (1.12)\n",
            "Requirement already satisfied: networkx in /usr/local/lib/python3.10/dist-packages (from torch>=1.8.0->ultralytics) (3.2.1)\n",
            "Requirement already satisfied: jinja2 in /usr/local/lib/python3.10/dist-packages (from torch>=1.8.0->ultralytics) (3.1.3)\n",
            "Requirement already satisfied: fsspec in /usr/local/lib/python3.10/dist-packages (from torch>=1.8.0->ultralytics) (2023.6.0)\n",
            "Requirement already satisfied: nvidia-cuda-nvrtc-cu12==12.1.105 in /usr/local/lib/python3.10/dist-packages (from torch>=1.8.0->ultralytics) (12.1.105)\n",
            "Requirement already satisfied: nvidia-cuda-runtime-cu12==12.1.105 in /usr/local/lib/python3.10/dist-packages (from torch>=1.8.0->ultralytics) (12.1.105)\n",
            "Requirement already satisfied: nvidia-cuda-cupti-cu12==12.1.105 in /usr/local/lib/python3.10/dist-packages (from torch>=1.8.0->ultralytics) (12.1.105)\n",
            "Requirement already satisfied: nvidia-cudnn-cu12==8.9.2.26 in /usr/local/lib/python3.10/dist-packages (from torch>=1.8.0->ultralytics) (8.9.2.26)\n",
            "Requirement already satisfied: nvidia-cublas-cu12==12.1.3.1 in /usr/local/lib/python3.10/dist-packages (from torch>=1.8.0->ultralytics) (12.1.3.1)\n",
            "Requirement already satisfied: nvidia-cufft-cu12==11.0.2.54 in /usr/local/lib/python3.10/dist-packages (from torch>=1.8.0->ultralytics) (11.0.2.54)\n",
            "Requirement already satisfied: nvidia-curand-cu12==10.3.2.106 in /usr/local/lib/python3.10/dist-packages (from torch>=1.8.0->ultralytics) (10.3.2.106)\n",
            "Requirement already satisfied: nvidia-cusolver-cu12==11.4.5.107 in /usr/local/lib/python3.10/dist-packages (from torch>=1.8.0->ultralytics) (11.4.5.107)\n",
            "Requirement already satisfied: nvidia-cusparse-cu12==12.1.0.106 in /usr/local/lib/python3.10/dist-packages (from torch>=1.8.0->ultralytics) (12.1.0.106)\n",
            "Requirement already satisfied: nvidia-nccl-cu12==2.19.3 in /usr/local/lib/python3.10/dist-packages (from torch>=1.8.0->ultralytics) (2.19.3)\n",
            "Requirement already satisfied: nvidia-nvtx-cu12==12.1.105 in /usr/local/lib/python3.10/dist-packages (from torch>=1.8.0->ultralytics) (12.1.105)\n",
            "Requirement already satisfied: triton==2.2.0 in /usr/local/lib/python3.10/dist-packages (from torch>=1.8.0->ultralytics) (2.2.0)\n",
            "Requirement already satisfied: nvidia-nvjitlink-cu12 in /usr/local/lib/python3.10/dist-packages (from nvidia-cusolver-cu12==11.4.5.107->torch>=1.8.0->ultralytics) (12.4.127)\n",
            "Requirement already satisfied: six>=1.5 in /usr/local/lib/python3.10/dist-packages (from python-dateutil>=2.7->matplotlib>=3.3.0->ultralytics) (1.16.0)\n",
            "Requirement already satisfied: MarkupSafe>=2.0 in /usr/local/lib/python3.10/dist-packages (from jinja2->torch>=1.8.0->ultralytics) (2.1.5)\n",
            "Requirement already satisfied: mpmath>=0.19 in /usr/local/lib/python3.10/dist-packages (from sympy->torch>=1.8.0->ultralytics) (1.3.0)\n"
          ]
        }
      ],
      "source": [
        "!pip install ultralytics"
      ]
    },
    {
      "cell_type": "markdown",
      "metadata": {
        "id": "UBwEWaXBpw5p"
      },
      "source": [
        "## Loading Training Data"
      ]
    },
    {
      "cell_type": "markdown",
      "metadata": {
        "id": "l_Um8BM7sTnq"
      },
      "source": [
        "### Loading urls"
      ]
    },
    {
      "cell_type": "code",
      "execution_count": null,
      "metadata": {
        "id": "oFtNVchKqKFQ"
      },
      "outputs": [],
      "source": [
        "# For Yolo Model.\n",
        "data_dir = pathlib.Path('/content/drive/MyDrive/Files')\n",
        "mitosis_train_urls = list(data_dir.glob('train/Mitosis/*.jpg'))\n",
        "normal_train_urls = list(data_dir.glob('train/Normal/*.jpg'))\n",
        "\n",
        "# For Res-Net or other model Training.\n",
        "data_dir2 = pathlib.Path('/content/drive/MyDrive/Files_for_res-net')\n",
        "data_dir_r2 = pathlib.Path('/content/drive/MyDrive/files_round2_combined')\n",
        "x_train_urls = list(data_dir2.glob('Training Images/*.jpg'))\n",
        "x_train_r2_urls_png = list(data_dir_r2.glob('Training Image/*.png'))"
      ]
    },
    {
      "cell_type": "code",
      "source": [
        "df = pd.read_csv('/content/drive/MyDrive/files_round2_combined/Training.csv')\n",
        "df['Label']"
      ],
      "metadata": {
        "colab": {
          "base_uri": "https://localhost:8080/"
        },
        "id": "2dnsYEZf-m6h",
        "outputId": "bcba4a48-3115-4b49-8e4b-3b9472528b2b"
      },
      "execution_count": null,
      "outputs": [
        {
          "output_type": "execute_result",
          "data": {
            "text/plain": [
              "0      Normal\n",
              "1     Mitosis\n",
              "2     Mitosis\n",
              "3     Mitosis\n",
              "4     Mitosis\n",
              "       ...   \n",
              "61    Mitosis\n",
              "62     Normal\n",
              "63     Normal\n",
              "64     Normal\n",
              "65    Mitosis\n",
              "Name: Label, Length: 66, dtype: object"
            ]
          },
          "metadata": {},
          "execution_count": 6
        }
      ]
    },
    {
      "cell_type": "code",
      "source": [
        "y = ['Normal','Mitosis','']"
      ],
      "metadata": {
        "id": "czE7VaUq_Q3j"
      },
      "execution_count": null,
      "outputs": []
    },
    {
      "cell_type": "code",
      "source": [
        "# Importing Y labels from Csv files.\n",
        "df = pd.read_csv('/content/drive/MyDrive/Files_for_res-net/Train.csv')\n",
        "y = df['Label']\n",
        "y_train_names = list(y)\n",
        "classes = ['Normal','Mitosis']"
      ],
      "metadata": {
        "id": "yxNbjWdR4Xsn"
      },
      "execution_count": null,
      "outputs": []
    },
    {
      "cell_type": "code",
      "source": [
        "# Importing Y labels from Csv files For Round 2.\n",
        "df_r2 = pd.read_csv('/content/drive/MyDrive/files_round2_combined/Training.csv')\n",
        "#row = df_r2.loc[df_r2['Image'] == str(x_train_r2_urls_png[0])[-10:],'Label'].iloc[0]"
      ],
      "metadata": {
        "id": "yaxg83PRdyh8"
      },
      "execution_count": null,
      "outputs": []
    },
    {
      "cell_type": "code",
      "source": [
        "def names_to_labels(y_train_names):\n",
        "  for i in range(len(y_train_names)):\n",
        "    if y_train_names[i] == 'Normal':\n",
        "      y_train_names[i] = 0\n",
        "    else:\n",
        "      y_train_names[i] = 1\n",
        "  return y_train_names"
      ],
      "metadata": {
        "id": "yQ2BAqNPiQth"
      },
      "execution_count": null,
      "outputs": []
    },
    {
      "cell_type": "code",
      "source": [
        "# For Round 2\n",
        "import os\n",
        "def sorted_labels_generator(df,x_train_urls):\n",
        "  y_train_names = []\n",
        "  for image_url in x_train_urls:\n",
        "    img_url_str = str(image_url)\n",
        "    filename = os.path.basename(img_url_str) # Get Name\n",
        "    label = df.loc[df['Image'] == filename , 'Label'].iloc[0]\n",
        "    y_train_names.append(label)\n",
        "  y_train_labels = names_to_labels(y_train_names)\n",
        "  return y_train_labels"
      ],
      "metadata": {
        "id": "XbgANXxnfBzG"
      },
      "execution_count": null,
      "outputs": []
    },
    {
      "cell_type": "code",
      "source": [
        "# 0 Label As Normal 1 Label as Mitosis\n",
        "y_train_labels = names_to_labels(y_train_names)\n",
        "y_train_labels_r2 = sorted_labels_generator(df_r2,x_train_r2_urls_png)\n",
        "print(len(y_train_labels))\n",
        "print(len(y_train_labels_r2))"
      ],
      "metadata": {
        "colab": {
          "base_uri": "https://localhost:8080/"
        },
        "id": "XTnXv1LNiM4m",
        "outputId": "add35418-96ca-4e55-a204-7a918faf4c09"
      },
      "execution_count": null,
      "outputs": [
        {
          "output_type": "stream",
          "name": "stdout",
          "text": [
            "226\n",
            "66\n"
          ]
        }
      ]
    },
    {
      "cell_type": "markdown",
      "metadata": {
        "id": "2cYwyVfxsXrC"
      },
      "source": [
        "### url images to matrix convertion"
      ]
    },
    {
      "cell_type": "code",
      "source": [
        "def png_to_jpg(training_urls):\n",
        "  for image_url in training_urls:\n",
        "    im = Image.open(str(image_url))\n",
        "    im.save('/content/drive/MyDrive/files_round2_combined/Training Images JPG/' +\n",
        "            image_url[:-4] + '.jpg',quality=100)\n",
        "  return None"
      ],
      "metadata": {
        "id": "PJiWIy1KbYmg"
      },
      "execution_count": null,
      "outputs": []
    },
    {
      "cell_type": "code",
      "execution_count": null,
      "metadata": {
        "id": "mQaL78GZsdvK"
      },
      "outputs": [],
      "source": [
        "def img_to_matrix(training_imgs):\n",
        "  x_train = []\n",
        "  for image_url in training_imgs:\n",
        "    img = cv2.imread(str(image_url))\n",
        "    img_resized = cv2.resize(img,(420,420))\n",
        "    x_train.append(img_resized)\n",
        "  return x_train"
      ]
    },
    {
      "cell_type": "code",
      "execution_count": null,
      "metadata": {
        "id": "karY4Qt_sgrR"
      },
      "outputs": [],
      "source": [
        "x_mitosis_train = img_to_matrix(mitosis_train_urls)\n",
        "x_normal_train = img_to_matrix(normal_train_urls)\n",
        "x_train = img_to_matrix(x_train_urls)  #For Models Apart Yolo.\n",
        "x_train_r2 = img_to_matrix(x_train_r2_urls_png)"
      ]
    },
    {
      "cell_type": "code",
      "execution_count": null,
      "metadata": {
        "id": "CU4OjLWbtxkS"
      },
      "outputs": [],
      "source": [
        "# Convertion from list to Np.Array\n",
        "x_mitosis_train = np.array(x_mitosis_train)\n",
        "x_normal_train = np.array(x_normal_train)\n",
        "#x_normal_train.shape"
      ]
    },
    {
      "cell_type": "code",
      "execution_count": null,
      "metadata": {
        "colab": {
          "base_uri": "https://localhost:8080/"
        },
        "id": "p268UDTau_a0",
        "outputId": "0ab1a320-003d-4aca-b715-7e10893add78"
      },
      "outputs": [
        {
          "output_type": "execute_result",
          "data": {
            "text/plain": [
              "(71, 800, 800, 3)"
            ]
          },
          "metadata": {},
          "execution_count": 12
        }
      ],
      "source": [
        "x_mitosis_train.shape"
      ]
    },
    {
      "cell_type": "code",
      "source": [
        "x_train = np.array(x_train)\n",
        "x_train_r2 = np.array(x_train_r2)\n",
        "x_train.shape\n",
        "x_train_r2.shape"
      ],
      "metadata": {
        "colab": {
          "base_uri": "https://localhost:8080/"
        },
        "id": "5FfU9Q0t69xQ",
        "outputId": "df02ac50-8d2d-4bac-b349-e374258ca02a"
      },
      "execution_count": null,
      "outputs": [
        {
          "output_type": "execute_result",
          "data": {
            "text/plain": [
              "(66, 420, 420, 3)"
            ]
          },
          "metadata": {},
          "execution_count": 35
        }
      ]
    },
    {
      "cell_type": "markdown",
      "metadata": {
        "id": "bFw2NAgOqRzQ"
      },
      "source": [
        "## Performing Normalization"
      ]
    },
    {
      "cell_type": "code",
      "execution_count": null,
      "metadata": {
        "id": "0wJ1ceWBqH-p"
      },
      "outputs": [],
      "source": [
        "# Spliting For Feeding Data To Esmbling.\n",
        "from sklearn.model_selection import train_test_split\n",
        "x_train , x_cross , y_train , y_cross = train_test_split(x_train,y_train_labels,test_size=0.2)\n",
        "x_train_r2,x_cross_r2,y_train_r2,y_cross_r2 = train_test_split(x_train_r2,y_train_labels_r2,test_size=0.2)"
      ]
    },
    {
      "cell_type": "code",
      "source": [
        "# Max Scaling\n",
        "x_train_max = x_train/255\n",
        "x_cross_max = x_cross/255\n",
        "x_train_max_r2 = x_train_r2/255\n",
        "x_cross_max_r2 = x_cross_r2/255"
      ],
      "metadata": {
        "id": "onBAuuIL6Osf"
      },
      "execution_count": null,
      "outputs": []
    },
    {
      "cell_type": "code",
      "source": [
        "y_train = np.array(y_train)\n",
        "y_cross = np.array(y_cross)"
      ],
      "metadata": {
        "id": "JU0CXSRw5l7u"
      },
      "execution_count": null,
      "outputs": []
    },
    {
      "cell_type": "code",
      "source": [
        "y_train_r2 = np.array(y_train_r2)\n",
        "y_cross_r2 = np.array(y_cross_r2)"
      ],
      "metadata": {
        "id": "j9ZPu81EJFlt"
      },
      "execution_count": null,
      "outputs": []
    },
    {
      "cell_type": "markdown",
      "metadata": {
        "id": "l4-PVc1kwrB8"
      },
      "source": [
        "## Data Augmentation"
      ]
    },
    {
      "cell_type": "code",
      "execution_count": null,
      "metadata": {
        "id": "Cxmue2s9wuRU"
      },
      "outputs": [],
      "source": [
        "def data_augment(x_train,save_to_dir,num_augmentations):\n",
        "\n",
        "  i = 0\n",
        "  count = 0\n",
        "  augmented_images = []\n",
        "  augmented_labels = []\n",
        "\n",
        "  train_datagen = ImageDataGenerator(\n",
        "    rotation_range=10,\n",
        "    shear_range=0.1,\n",
        "    zoom_range=0.1,\n",
        "    horizontal_flip=True,\n",
        "    width_shift_range=0.2,\n",
        "    height_shift_range=0.2,\n",
        "    fill_mode='reflect',\n",
        "\n",
        ")\n",
        "\n",
        "  for batch in train_datagen.flow(x_train, batch_size=1, save_to_dir=save_to_dir, save_prefix='aug', save_format='jpg'):\n",
        "\n",
        "      batch = batch.reshape(800,800,3)\n",
        "      augmented_image = batch\n",
        "      augmented_images.append(augmented_image)\n",
        "      count = count + 1\n",
        "      original_image_label = y_train[i]\n",
        "\n",
        "      if(count ==  num_augmentations):\n",
        "        count = 0\n",
        "        i = i + 1\n",
        "\n",
        "      # Repeat the label for each set of augmented images generated for the original image\n",
        "      augmented_labels.append(original_image_label)\n",
        "\n",
        "      if len(augmented_images) == len(x_train) * num_augmentations:\n",
        "          break\n",
        "\n",
        "  augmented_images = np.array(augmented_images)\n",
        "  augmented_labels = np.array(augmented_labels)\n",
        "\n",
        "  return augmented_images,augmented_labels"
      ]
    },
    {
      "cell_type": "code",
      "execution_count": null,
      "metadata": {
        "id": "0Oy69aZpq-fW"
      },
      "outputs": [],
      "source": [
        "# Augemnetations for YOLO.\n",
        "save_to_dir_mitosis = '/content/drive/MyDrive/Files_Yolo/train/Mitosis'\n",
        "save_to_dir_normal =  '/content/drive/MyDrive/Files_Yolo/train/Normal'\n",
        "num_augmentation = 1\n",
        "\n",
        "data_augment(x_mitosis_train,save_to_dir_mitosis,num_augmentation)\n",
        "data_augment(x_normal_train,save_to_dir_normal,num_augmentation)\n"
      ]
    },
    {
      "cell_type": "code",
      "source": [
        "# Augmentation for Esembling of models.\n",
        "num_augmentation = 1\n",
        "save_to_dir = '/content/drive/MyDrive/Files_for_res-net/aug'  # Directory to save augmented images\n",
        "aug_imgs,aug_labels = data_augment(x_train,save_to_dir,num_augmentation)\n",
        "x_train_combined = np.concatenate((x_train,aug_imgs),axis=0)\n",
        "y_train_combined = np.concatenate((y_train,aug_labels),axis=0)\n",
        "print(x_train_combined.shape)\n",
        "print(y_train_combined.shape)"
      ],
      "metadata": {
        "id": "Q75FM22w99YI"
      },
      "execution_count": null,
      "outputs": []
    },
    {
      "cell_type": "markdown",
      "source": [
        "## Esembling Of Models"
      ],
      "metadata": {
        "id": "JcDgQYvz6piv"
      }
    },
    {
      "cell_type": "markdown",
      "source": [
        "### Res_Net and Inception Model"
      ],
      "metadata": {
        "id": "bEPJMrMX7O4w"
      }
    },
    {
      "cell_type": "code",
      "source": [
        "from keras.applications import ResNet50V2,InceptionResNetV2\n",
        "from keras.models import Model\n",
        "from keras.layers import MaxPooling2D,GlobalAveragePooling2D,Dense,Dropout,Conv2D,concatenate\n",
        "from keras.layers import Lambda\n",
        "# Res-Net Model.\n",
        "# base_resnet = ResNet50V2(\n",
        "# #     input_shape=(224,224,3),\n",
        "# #     include_top=False,\n",
        "# #     weights='imagenet'\n",
        "# # )\n",
        "\n",
        "#Inception Model\n",
        "base_inception = InceptionResNetV2(\n",
        "    input_shape=(420,420,3),\n",
        "    include_top=False,\n",
        "    weights='imagenet'\n",
        ")\n",
        "\n",
        "#Freeze Some Layers of Inception Model\n",
        "for layer in base_inception.layers:\n",
        "  layer.trainable = False\n",
        "\n",
        "# Freeze some Layers of Res-Net Only\n",
        "# for layer in base_resnet.layers[:5]:\n",
        "#   layer.trainable = False\n",
        "\n",
        "# Resize the output of InceptionV3 to match the shape of ResNet50V2\n",
        "\n",
        "# resized_output_inception = Lambda(lambda x: tf.image.resize(x, (7, 7)))(base_inception.output)\n",
        "\n",
        "# combined_output = concatenate([base_resnet.output,resized_output_inception])\n",
        "combined_output = base_inception.output\n",
        "x = GlobalAveragePooling2D()(combined_output)\n",
        "x = Dense(256,activation='relu')(x)\n",
        "x = Dense(units=256,activation='relu')(x)\n",
        "x = Dropout(0.2)(x)\n",
        "predictions = Dense(1,activation='sigmoid')(x)\n",
        "model_resnet = Model(inputs=base_inception.input,outputs=predictions)"
      ],
      "metadata": {
        "id": "PrdgeQX27SFh"
      },
      "execution_count": null,
      "outputs": []
    },
    {
      "cell_type": "code",
      "source": [
        "model_resnet.compile(\n",
        "    keras.optimizers.AdamW(0.0001),\n",
        "    keras.losses.BinaryCrossentropy(),\n",
        "    metrics=['accuracy']\n",
        ")"
      ],
      "metadata": {
        "id": "hcymBnSuDIOR"
      },
      "execution_count": null,
      "outputs": []
    },
    {
      "cell_type": "code",
      "source": [
        "def data_generator(X, y, batch_size):\n",
        "    num_samples = len(X)\n",
        "    while True:\n",
        "        indices = np.random.permutation(num_samples)\n",
        "        for i in range(0, num_samples, batch_size):\n",
        "            batch_indices = indices[i:i+batch_size]\n",
        "            batch_X = X[batch_indices]  # Assuming X is a list of input data for each input of the model\n",
        "            batch_y = y[batch_indices]\n",
        "            yield batch_X, batch_y"
      ],
      "metadata": {
        "id": "6OrrR_fQ7vjr"
      },
      "execution_count": null,
      "outputs": []
    },
    {
      "cell_type": "code",
      "source": [
        "from numba import cuda\n",
        "cuda.select_device(0)\n",
        "cuda.close()\n",
        "cuda.select_device(0)"
      ],
      "metadata": {
        "colab": {
          "base_uri": "https://localhost:8080/"
        },
        "id": "WAAa0Tee-Pqr",
        "outputId": "db6f200d-31ce-4d55-d433-040159c076d9"
      },
      "execution_count": null,
      "outputs": [
        {
          "output_type": "execute_result",
          "data": {
            "text/plain": [
              "<weakproxy at 0x7ce71c703a10 to Device at 0x7ce71c7103d0>"
            ]
          },
          "metadata": {},
          "execution_count": 20
        }
      ]
    },
    {
      "cell_type": "code",
      "source": [
        "os.environ['TF_FORCE_GPU_ALLOW_GROWTH'] = 'true'"
      ],
      "metadata": {
        "id": "KNcCGkibDEfH"
      },
      "execution_count": null,
      "outputs": []
    },
    {
      "cell_type": "code",
      "source": [
        "batch_size = 8\n",
        "train_generator = data_generator(x_train_max, y_train, batch_size)  # Pass X as a list containing data for each input\n",
        "model_resnet.fit_generator(train_generator, steps_per_epoch=len(x_train_max) // batch_size, epochs=10)"
      ],
      "metadata": {
        "colab": {
          "base_uri": "https://localhost:8080/"
        },
        "id": "FzIsgV687-JF",
        "outputId": "1c084f5e-d330-46eb-b34a-de8660fdc4f1"
      },
      "execution_count": null,
      "outputs": [
        {
          "output_type": "stream",
          "name": "stdout",
          "text": [
            "Epoch 1/10\n"
          ]
        },
        {
          "output_type": "stream",
          "name": "stderr",
          "text": [
            "<ipython-input-48-94c6f9748ef2>:3: UserWarning: `Model.fit_generator` is deprecated and will be removed in a future version. Please use `Model.fit`, which supports generators.\n",
            "  model_resnet.fit_generator(train_generator, steps_per_epoch=len(x_train_max) // batch_size, epochs=10)\n"
          ]
        }
      ]
    },
    {
      "cell_type": "code",
      "source": [
        "batch_size = 8\n",
        "train_generator = data_generator(x_train_max_r2, y_train_r2, batch_size)  # Pass X as a list containing data for each input\n",
        "model_resnet.fit_generator(train_generator, steps_per_epoch=len(x_train_max_r2) // batch_size, epochs=10)"
      ],
      "metadata": {
        "id": "g8VOXPI8IpSn"
      },
      "execution_count": null,
      "outputs": []
    },
    {
      "cell_type": "code",
      "source": [
        "model_resnet.evaluate(x_cross_max_r2,y_cross_r2)"
      ],
      "metadata": {
        "colab": {
          "base_uri": "https://localhost:8080/"
        },
        "id": "P_fd-Mb_Jb2G",
        "outputId": "728e1ca4-6561-4352-b410-beb391e963a7"
      },
      "execution_count": null,
      "outputs": [
        {
          "output_type": "stream",
          "name": "stdout",
          "text": [
            "1/1 [==============================] - 6s 6s/step - loss: 2.3318 - accuracy: 0.7143\n"
          ]
        },
        {
          "output_type": "execute_result",
          "data": {
            "text/plain": [
              "[2.3318068981170654, 0.7142857313156128]"
            ]
          },
          "metadata": {},
          "execution_count": 21
        }
      ]
    },
    {
      "cell_type": "code",
      "source": [
        "y_pred_r1 = model_resnet.predict(x_cross_max)\n",
        "len(y_pred_r1)"
      ],
      "metadata": {
        "colab": {
          "base_uri": "https://localhost:8080/"
        },
        "id": "m5vigSZHLE1d",
        "outputId": "29570694-78a9-4939-ffe0-5da00b65515c"
      },
      "execution_count": null,
      "outputs": [
        {
          "output_type": "stream",
          "name": "stdout",
          "text": [
            "2/2 [==============================] - 4s 46ms/step\n"
          ]
        },
        {
          "output_type": "execute_result",
          "data": {
            "text/plain": [
              "46"
            ]
          },
          "metadata": {},
          "execution_count": 29
        }
      ]
    },
    {
      "cell_type": "code",
      "source": [
        "y_pred_r1"
      ],
      "metadata": {
        "id": "JIRO7xuJLMdI"
      },
      "execution_count": null,
      "outputs": []
    },
    {
      "cell_type": "code",
      "source": [
        "y_pred = model_resnet.predict(x_cross_max_r2)\n",
        "len(y_pred)"
      ],
      "metadata": {
        "colab": {
          "base_uri": "https://localhost:8080/"
        },
        "id": "22ws-G_IKAYy",
        "outputId": "8ab695ed-6109-4b07-b78d-c7078fe300cf"
      },
      "execution_count": null,
      "outputs": [
        {
          "output_type": "stream",
          "name": "stdout",
          "text": [
            "1/1 [==============================] - 3s 3s/step\n"
          ]
        },
        {
          "output_type": "execute_result",
          "data": {
            "text/plain": [
              "14"
            ]
          },
          "metadata": {},
          "execution_count": 22
        }
      ]
    },
    {
      "cell_type": "code",
      "source": [
        "y_cross_r2"
      ],
      "metadata": {
        "colab": {
          "base_uri": "https://localhost:8080/"
        },
        "id": "BRAiB9opKcHt",
        "outputId": "3d9542b0-1d77-48b7-d944-9d0a824ecd29"
      },
      "execution_count": null,
      "outputs": [
        {
          "output_type": "execute_result",
          "data": {
            "text/plain": [
              "array([1, 0, 1, 1, 0, 0, 0, 1, 1, 1, 1, 1, 1, 1])"
            ]
          },
          "metadata": {},
          "execution_count": 28
        }
      ]
    },
    {
      "cell_type": "markdown",
      "source": [
        "### DenseNet201"
      ],
      "metadata": {
        "id": "_NqcChdrD3CB"
      }
    },
    {
      "cell_type": "code",
      "source": [
        "from keras.applications import DenseNet201\n",
        "from keras.models import Model\n",
        "from keras.layers import MaxPooling2D,GlobalAveragePooling2D,Dense,Dropout,Conv2D\n",
        "\n",
        "base_denseNet = DenseNet201(\n",
        "    input_shape=(800,800,3),\n",
        "    include_top=False,\n",
        "    weights='imagenet'\n",
        ")\n",
        "\n",
        "# Freeze some Layers Only\n",
        "for layer in base_denseNet.layers[:10]:\n",
        "  layer.trainable = False\n",
        "\n",
        "x = base_denseNet.output\n",
        "x = GlobalAveragePooling2D()(x)\n",
        "x = Dense(312,activation='relu')(x)\n",
        "x = Dropout(0.3)(x)\n",
        "predictions_denseNet = Dense(1,activation='sigmoid')(x)\n",
        "model_denseNet = Model(input=base_denseNet.inputs,outputs=predictions_denseNet)"
      ],
      "metadata": {
        "id": "DDB0SdG6EAVq"
      },
      "execution_count": null,
      "outputs": []
    },
    {
      "cell_type": "code",
      "source": [
        "model_denseNet.compile(\n",
        "    keras.optimizers.AdamW(0.002),\n",
        "    keras.losses.BinaryCrossentropy(),\n",
        "    metrics=['accuracy']\n",
        ")"
      ],
      "metadata": {
        "id": "3l8DJEaDEb3T"
      },
      "execution_count": null,
      "outputs": []
    },
    {
      "cell_type": "code",
      "source": [
        "History_denseNet=model_denseNet.fit(x_train_combined,y_train_combined,epochs=10)"
      ],
      "metadata": {
        "id": "nT3mUx7sEhIC"
      },
      "execution_count": null,
      "outputs": []
    },
    {
      "cell_type": "markdown",
      "source": [
        "### Inception ResNetV2"
      ],
      "metadata": {
        "id": "sAgja5CHEtHq"
      }
    },
    {
      "cell_type": "code",
      "source": [
        "from keras.applications import InceptionResNetV2\n",
        "from keras.models import Model\n",
        "from keras.layers import MaxPooling2D,GlobalAveragePooling2D,Dense,Dropout,Conv2D\n",
        "\n",
        "base_inception = InceptionResNetV2(\n",
        "    input_shape=(800,800,3),\n",
        "    include_top=False,\n",
        "    weights='imagenet'\n",
        ")\n",
        "\n",
        "# Freeze some Layers Only\n",
        "for layer in base_inception.layers[:12]:\n",
        "  layer.trainable = False\n",
        "\n",
        "x = base_inception.output\n",
        "x = GlobalAveragePooling2D()(x)\n",
        "x = Dense(280,activation='relu')(x)\n",
        "x = Dropout(0.2)(x)\n",
        "predictions_inception = Dense(1,activation='sigmoid')(x)\n",
        "model_inception = Model(input=base_inception.inputs,outputs=predictions_inception)"
      ],
      "metadata": {
        "id": "WHQ3F1uhEwOi"
      },
      "execution_count": null,
      "outputs": []
    },
    {
      "cell_type": "code",
      "source": [
        "model_inception.compile(\n",
        "    keras.optimizers.AdamW(0.002),\n",
        "    keras.losses.BinaryCrossentropy(),\n",
        "    metrics=['accuracy']\n",
        ")"
      ],
      "metadata": {
        "id": "DiqlCpgdFjgz"
      },
      "execution_count": null,
      "outputs": []
    },
    {
      "cell_type": "code",
      "source": [
        "History_inception=model_inception.fit(x_train_combined,y_train_combined,epochs=10)"
      ],
      "metadata": {
        "id": "pOhSaBxAFzUD"
      },
      "execution_count": null,
      "outputs": []
    },
    {
      "cell_type": "markdown",
      "metadata": {
        "id": "TTKwYdgcp7HJ"
      },
      "source": [
        "## YOLO Model Implementation"
      ]
    },
    {
      "cell_type": "markdown",
      "metadata": {
        "id": "qJPA26VxvX_A"
      },
      "source": [
        "### Importing Yolo"
      ]
    },
    {
      "cell_type": "code",
      "execution_count": null,
      "metadata": {
        "id": "qN_1HojpLwgP"
      },
      "outputs": [],
      "source": [
        "from ultralytics import YOLO"
      ]
    },
    {
      "cell_type": "markdown",
      "metadata": {
        "id": "sJHWsmvgvakA"
      },
      "source": [
        "### Training yolo"
      ]
    },
    {
      "cell_type": "code",
      "execution_count": null,
      "metadata": {
        "colab": {
          "base_uri": "https://localhost:8080/"
        },
        "id": "qsamOB8yMFJy",
        "outputId": "b63f7d0b-6ce6-4b89-f4cd-ba411cfb3dc8"
      },
      "outputs": [
        {
          "metadata": {
            "tags": null
          },
          "name": "stdout",
          "output_type": "stream",
          "text": [
            "Ultralytics YOLOv8.1.45 🚀 Python-3.10.12 torch-2.2.1+cu121 CUDA:0 (Tesla T4, 15102MiB)\n",
            "\u001b[34m\u001b[1mengine/trainer: \u001b[0mtask=classify, mode=train, model=/content/runs/classify/train6/weights/best.pt, data=/content/drive/MyDrive/Files_2, epochs=10, time=None, patience=100, batch=-1, imgsz=128, save=True, save_period=-1, cache=False, device=None, workers=8, project=None, name=train8, exist_ok=False, pretrained=True, optimizer=auto, verbose=True, seed=0, deterministic=True, single_cls=True, rect=False, cos_lr=True, close_mosaic=4, resume=False, amp=False, fraction=1.0, profile=False, freeze=None, multi_scale=False, overlap_mask=True, mask_ratio=4, dropout=0.03, val=True, split=val, save_json=False, save_hybrid=False, conf=None, iou=0.7, max_det=300, half=False, dnn=False, plots=True, source=None, vid_stride=1, stream_buffer=False, visualize=False, augment=False, agnostic_nms=False, classes=None, retina_masks=False, embed=None, show=False, save_frames=False, save_txt=False, save_conf=False, save_crop=False, show_labels=True, show_conf=True, show_boxes=True, line_width=None, format=torchscript, keras=False, optimize=False, int8=False, dynamic=False, simplify=False, opset=None, workspace=4, nms=False, lr0=0.05, lrf=0.01, momentum=0.937, weight_decay=0.0009, warmup_epochs=3.0, warmup_momentum=0.8, warmup_bias_lr=0.1, box=7.5, cls=0.5, dfl=1.5, pose=12.0, kobj=1.0, label_smoothing=0.0, nbs=64, hsv_h=0.015, hsv_s=0.7, hsv_v=0.4, degrees=0.0, translate=0.1, scale=0.5, shear=0.0, perspective=0.0, flipud=0.0, fliplr=0.5, bgr=0.0, mosaic=1.0, mixup=0.0, copy_paste=0.0, auto_augment=randaugment, erasing=0.4, crop_fraction=1.0, cfg=None, tracker=botsort.yaml, save_dir=runs/classify/train8\n",
            "\u001b[34m\u001b[1mtrain:\u001b[0m /content/drive/MyDrive/Files_2/train... found 56 images in 2 classes ✅ \n",
            "\u001b[34m\u001b[1mval:\u001b[0m /content/drive/MyDrive/Files_2/val... found 8 images in 2 classes ✅ \n",
            "\u001b[34m\u001b[1mtest:\u001b[0m None...\n",
            "\n",
            "                   from  n    params  module                                       arguments                     \n",
            "  0                  -1  1      2320  ultralytics.nn.modules.conv.Conv             [3, 80, 3, 2]                 \n",
            "  1                  -1  1    115520  ultralytics.nn.modules.conv.Conv             [80, 160, 3, 2]               \n",
            "  2                  -1  3    436800  ultralytics.nn.modules.block.C2f             [160, 160, 3, True]           \n",
            "  3                  -1  1    461440  ultralytics.nn.modules.conv.Conv             [160, 320, 3, 2]              \n",
            "  4                  -1  6   3281920  ultralytics.nn.modules.block.C2f             [320, 320, 6, True]           \n",
            "  5                  -1  1   1844480  ultralytics.nn.modules.conv.Conv             [320, 640, 3, 2]              \n",
            "  6                  -1  6  13117440  ultralytics.nn.modules.block.C2f             [640, 640, 6, True]           \n",
            "  7                  -1  1   7375360  ultralytics.nn.modules.conv.Conv             [640, 1280, 3, 2]             \n",
            "  8                  -1  3  27865600  ultralytics.nn.modules.block.C2f             [1280, 1280, 3, True]         \n",
            "  9                  -1  1   1643522  ultralytics.nn.modules.head.Classify         [1280, 2]                     \n",
            "YOLOv8x-cls summary: 183 layers, 56144402 parameters, 56144402 gradients, 154.3 GFLOPs\n",
            "Transferred 302/302 items from pretrained weights\n",
            "\u001b[34m\u001b[1mTensorBoard: \u001b[0mStart with 'tensorboard --logdir runs/classify/train8', view at http://localhost:6006/\n",
            "\u001b[34m\u001b[1mAutoBatch: \u001b[0mComputing optimal batch size for imgsz=128\n",
            "\u001b[34m\u001b[1mAutoBatch: \u001b[0mCUDA:0 (Tesla T4) 14.75G total, 3.04G reserved, 0.60G allocated, 11.12G free\n",
            "      Params      GFLOPs  GPU_mem (GB)  forward (ms) backward (ms)                   input                  output\n",
            "    56144402       6.172         3.402          16.9         30.59        (1, 3, 128, 128)                  (1, 2)\n",
            "    56144402       12.34         1.971         15.74         26.26        (2, 3, 128, 128)                  (2, 2)\n",
            "    56144402       24.69         2.194         16.64         35.42        (4, 3, 128, 128)                  (4, 2)\n",
            "    56144402       49.38         2.273         17.97         45.97        (8, 3, 128, 128)                  (8, 2)\n",
            "    56144402       98.76         4.280         27.69         86.09       (16, 3, 128, 128)                 (16, 2)\n",
            "\u001b[34m\u001b[1mAutoBatch: \u001b[0mUsing batch-size 43 for CUDA:0 10.22G/14.75G (69%) ✅\n"
          ]
        },
        {
          "metadata": {
            "tags": null
          },
          "name": "stderr",
          "output_type": "stream",
          "text": [
            "\u001b[34m\u001b[1mtrain: \u001b[0mScanning /content/drive/MyDrive/Files_2/train... 56 images, 0 corrupt: 100%|██████████| 56/56 [00:00<?, ?it/s]\n",
            "/usr/lib/python3.10/multiprocessing/popen_fork.py:66: RuntimeWarning: os.fork() was called. os.fork() is incompatible with multithreaded code, and JAX is multithreaded, so this will likely lead to a deadlock.\n",
            "  self.pid = os.fork()\n",
            "\u001b[34m\u001b[1mval: \u001b[0mScanning /content/drive/MyDrive/Files_2/val... 8 images, 0 corrupt: 100%|██████████| 8/8 [00:00<?, ?it/s]\n"
          ]
        },
        {
          "metadata": {
            "tags": null
          },
          "name": "stdout",
          "output_type": "stream",
          "text": [
            "\u001b[34m\u001b[1moptimizer:\u001b[0m 'optimizer=auto' found, ignoring 'lr0=0.05' and 'momentum=0.937' and determining best 'optimizer', 'lr0' and 'momentum' automatically... \n",
            "\u001b[34m\u001b[1moptimizer:\u001b[0m AdamW(lr=0.000714, momentum=0.9) with parameter groups 50 weight(decay=0.0), 51 weight(decay=0.0006046875), 51 bias(decay=0.0)\n",
            "\u001b[34m\u001b[1mTensorBoard: \u001b[0mmodel graph visualization added ✅\n",
            "Image sizes 128 train, 128 val\n",
            "Using 2 dataloader workers\n",
            "Logging results to \u001b[1mruns/classify/train8\u001b[0m\n",
            "Starting training for 10 epochs...\n",
            "\n",
            "      Epoch    GPU_mem       loss  Instances       Size\n"
          ]
        },
        {
          "metadata": {
            "tags": null
          },
          "name": "stderr",
          "output_type": "stream",
          "text": [
            "       1/10      5.38G      1.975         13        128: 100%|██████████| 2/2 [00:00<00:00,  2.28it/s]\n",
            "               classes   top1_acc   top5_acc: 100%|██████████| 1/1 [00:00<00:00,  2.47it/s]"
          ]
        },
        {
          "metadata": {
            "tags": null
          },
          "name": "stdout",
          "output_type": "stream",
          "text": [
            "                   all       0.75          1\n"
          ]
        },
        {
          "metadata": {
            "tags": null
          },
          "name": "stderr",
          "output_type": "stream",
          "text": [
            "\n"
          ]
        },
        {
          "metadata": {
            "tags": null
          },
          "name": "stdout",
          "output_type": "stream",
          "text": [
            "\n",
            "      Epoch    GPU_mem       loss  Instances       Size\n"
          ]
        },
        {
          "metadata": {
            "tags": null
          },
          "name": "stderr",
          "output_type": "stream",
          "text": [
            "       2/10      5.83G      1.994         13        128: 100%|██████████| 2/2 [00:00<00:00,  2.63it/s]\n",
            "               classes   top1_acc   top5_acc: 100%|██████████| 1/1 [00:00<00:00, 13.18it/s]"
          ]
        },
        {
          "metadata": {
            "tags": null
          },
          "name": "stdout",
          "output_type": "stream",
          "text": [
            "                   all      0.875          1\n"
          ]
        },
        {
          "metadata": {
            "tags": null
          },
          "name": "stderr",
          "output_type": "stream",
          "text": [
            "\n"
          ]
        },
        {
          "metadata": {
            "tags": null
          },
          "name": "stdout",
          "output_type": "stream",
          "text": [
            "\n",
            "      Epoch    GPU_mem       loss  Instances       Size\n"
          ]
        },
        {
          "metadata": {
            "tags": null
          },
          "name": "stderr",
          "output_type": "stream",
          "text": [
            "       3/10      5.83G       1.47         13        128: 100%|██████████| 2/2 [00:00<00:00,  3.52it/s]\n",
            "               classes   top1_acc   top5_acc: 100%|██████████| 1/1 [00:00<00:00, 20.94it/s]"
          ]
        },
        {
          "metadata": {
            "tags": null
          },
          "name": "stdout",
          "output_type": "stream",
          "text": [
            "                   all       0.75          1\n"
          ]
        },
        {
          "metadata": {
            "tags": null
          },
          "name": "stderr",
          "output_type": "stream",
          "text": [
            "\n"
          ]
        },
        {
          "metadata": {
            "tags": null
          },
          "name": "stdout",
          "output_type": "stream",
          "text": [
            "\n",
            "      Epoch    GPU_mem       loss  Instances       Size\n"
          ]
        },
        {
          "metadata": {
            "tags": null
          },
          "name": "stderr",
          "output_type": "stream",
          "text": [
            "       4/10      5.83G      1.145         13        128: 100%|██████████| 2/2 [00:00<00:00,  3.54it/s]\n",
            "               classes   top1_acc   top5_acc: 100%|██████████| 1/1 [00:00<00:00, 22.80it/s]"
          ]
        },
        {
          "metadata": {
            "tags": null
          },
          "name": "stdout",
          "output_type": "stream",
          "text": [
            "                   all       0.75          1\n"
          ]
        },
        {
          "metadata": {
            "tags": null
          },
          "name": "stderr",
          "output_type": "stream",
          "text": [
            "\n"
          ]
        },
        {
          "metadata": {
            "tags": null
          },
          "name": "stdout",
          "output_type": "stream",
          "text": [
            "\n",
            "      Epoch    GPU_mem       loss  Instances       Size\n"
          ]
        },
        {
          "metadata": {
            "tags": null
          },
          "name": "stderr",
          "output_type": "stream",
          "text": [
            "       5/10      5.83G      1.323         13        128: 100%|██████████| 2/2 [00:00<00:00,  3.38it/s]\n",
            "               classes   top1_acc   top5_acc: 100%|██████████| 1/1 [00:00<00:00, 16.39it/s]"
          ]
        },
        {
          "metadata": {
            "tags": null
          },
          "name": "stdout",
          "output_type": "stream",
          "text": [
            "                   all       0.75          1\n"
          ]
        },
        {
          "metadata": {
            "tags": null
          },
          "name": "stderr",
          "output_type": "stream",
          "text": [
            "\n"
          ]
        },
        {
          "metadata": {
            "tags": null
          },
          "name": "stdout",
          "output_type": "stream",
          "text": [
            "\n",
            "      Epoch    GPU_mem       loss  Instances       Size\n"
          ]
        },
        {
          "metadata": {
            "tags": null
          },
          "name": "stderr",
          "output_type": "stream",
          "text": [
            "       6/10      5.84G      1.294         13        128: 100%|██████████| 2/2 [00:00<00:00,  3.65it/s]\n",
            "               classes   top1_acc   top5_acc: 100%|██████████| 1/1 [00:00<00:00, 20.07it/s]"
          ]
        },
        {
          "metadata": {
            "tags": null
          },
          "name": "stdout",
          "output_type": "stream",
          "text": [
            "                   all       0.75          1\n"
          ]
        },
        {
          "metadata": {
            "tags": null
          },
          "name": "stderr",
          "output_type": "stream",
          "text": [
            "\n",
            "/usr/lib/python3.10/multiprocessing/popen_fork.py:66: RuntimeWarning: os.fork() was called. os.fork() is incompatible with multithreaded code, and JAX is multithreaded, so this will likely lead to a deadlock.\n",
            "  self.pid = os.fork()\n"
          ]
        },
        {
          "metadata": {
            "tags": null
          },
          "name": "stdout",
          "output_type": "stream",
          "text": [
            "\n",
            "      Epoch    GPU_mem       loss  Instances       Size\n"
          ]
        },
        {
          "metadata": {
            "tags": null
          },
          "name": "stderr",
          "output_type": "stream",
          "text": [
            "       7/10      5.83G      1.027         13        128: 100%|██████████| 2/2 [00:02<00:00,  1.17s/it]\n",
            "               classes   top1_acc   top5_acc: 100%|██████████| 1/1 [00:00<00:00, 11.76it/s]"
          ]
        },
        {
          "metadata": {
            "tags": null
          },
          "name": "stdout",
          "output_type": "stream",
          "text": [
            "                   all      0.875          1\n"
          ]
        },
        {
          "metadata": {
            "tags": null
          },
          "name": "stderr",
          "output_type": "stream",
          "text": [
            "\n"
          ]
        },
        {
          "metadata": {
            "tags": null
          },
          "name": "stdout",
          "output_type": "stream",
          "text": [
            "\n",
            "      Epoch    GPU_mem       loss  Instances       Size\n"
          ]
        },
        {
          "metadata": {
            "tags": null
          },
          "name": "stderr",
          "output_type": "stream",
          "text": [
            "       8/10      5.82G     0.9926         13        128: 100%|██████████| 2/2 [00:00<00:00,  3.28it/s]\n",
            "               classes   top1_acc   top5_acc: 100%|██████████| 1/1 [00:00<00:00, 19.92it/s]"
          ]
        },
        {
          "metadata": {
            "tags": null
          },
          "name": "stdout",
          "output_type": "stream",
          "text": [
            "                   all      0.875          1\n"
          ]
        },
        {
          "metadata": {
            "tags": null
          },
          "name": "stderr",
          "output_type": "stream",
          "text": [
            "\n"
          ]
        },
        {
          "metadata": {
            "tags": null
          },
          "name": "stdout",
          "output_type": "stream",
          "text": [
            "\n",
            "      Epoch    GPU_mem       loss  Instances       Size\n"
          ]
        },
        {
          "metadata": {
            "tags": null
          },
          "name": "stderr",
          "output_type": "stream",
          "text": [
            "       9/10      5.82G     0.9608         13        128: 100%|██████████| 2/2 [00:00<00:00,  3.76it/s]\n",
            "               classes   top1_acc   top5_acc: 100%|██████████| 1/1 [00:00<00:00, 16.78it/s]"
          ]
        },
        {
          "metadata": {
            "tags": null
          },
          "name": "stdout",
          "output_type": "stream",
          "text": [
            "                   all      0.875          1\n"
          ]
        },
        {
          "metadata": {
            "tags": null
          },
          "name": "stderr",
          "output_type": "stream",
          "text": [
            "\n"
          ]
        },
        {
          "output_type": "stream",
          "name": "stdout",
          "text": [
            "\n",
            "      Epoch    GPU_mem       loss  Instances       Size\n"
          ]
        },
        {
          "output_type": "stream",
          "name": "stderr",
          "text": [
            "      10/10      5.83G     0.9646         13        128: 100%|██████████| 2/2 [00:00<00:00,  3.46it/s]\n",
            "               classes   top1_acc   top5_acc: 100%|██████████| 1/1 [00:00<00:00, 37.31it/s]"
          ]
        },
        {
          "output_type": "stream",
          "name": "stdout",
          "text": [
            "                   all      0.875          1\n"
          ]
        },
        {
          "output_type": "stream",
          "name": "stderr",
          "text": [
            "\n"
          ]
        },
        {
          "output_type": "stream",
          "name": "stdout",
          "text": [
            "\n",
            "10 epochs completed in 0.016 hours.\n",
            "Optimizer stripped from runs/classify/train8/weights/last.pt, 112.5MB\n",
            "Optimizer stripped from runs/classify/train8/weights/best.pt, 112.5MB\n",
            "\n",
            "Validating runs/classify/train8/weights/best.pt...\n",
            "Ultralytics YOLOv8.1.45 🚀 Python-3.10.12 torch-2.2.1+cu121 CUDA:0 (Tesla T4, 15102MiB)\n",
            "YOLOv8x-cls summary (fused): 133 layers, 56125762 parameters, 0 gradients, 153.8 GFLOPs\n",
            "\u001b[34m\u001b[1mtrain:\u001b[0m /content/drive/MyDrive/Files_2/train... found 56 images in 2 classes ✅ \n",
            "\u001b[34m\u001b[1mval:\u001b[0m /content/drive/MyDrive/Files_2/val... found 8 images in 2 classes ✅ \n",
            "\u001b[34m\u001b[1mtest:\u001b[0m None...\n"
          ]
        },
        {
          "output_type": "stream",
          "name": "stderr",
          "text": [
            "               classes   top1_acc   top5_acc: 100%|██████████| 1/1 [00:00<00:00, 18.29it/s]\n"
          ]
        },
        {
          "output_type": "stream",
          "name": "stdout",
          "text": [
            "                   all      0.875          1\n",
            "Speed: 0.2ms preprocess, 3.6ms inference, 0.0ms loss, 0.0ms postprocess per image\n",
            "Results saved to \u001b[1mruns/classify/train8\u001b[0m\n",
            "Results saved to \u001b[1mruns/classify/train8\u001b[0m\n"
          ]
        }
      ],
      "source": [
        "data_path = '/content/drive/MyDrive/Files_2'\n",
        "model = YOLO('/content/runs/classify/train6/weights/best.pt',task='classify')\n",
        "args_dict = {\n",
        "    'epochs': 10,\n",
        "    'imagsz': 128,\n",
        "    'batch': -1,\n",
        "    'verbose': True,\n",
        "    'single_cls': True,\n",
        "    'close_mosaic': 4,\n",
        "    'lr0': 0.05,\n",
        "    'weight_decay': 0.0009,\n",
        "    'dropout': 0.03,\n",
        "    'plots': True,\n",
        "    'amp' : False,\n",
        "    'cos_lr':True\n",
        "}\n",
        "result = model.train(data=data_path, epochs=args_dict['epochs'], imgsz=args_dict['imagsz'],\n",
        "                     batch=args_dict['batch'], verbose=args_dict['verbose'],\n",
        "                     single_cls=args_dict['single_cls'], close_mosaic=args_dict['close_mosaic'],\n",
        "                     lr0=args_dict['lr0'], weight_decay=args_dict['weight_decay'],\n",
        "                     dropout=args_dict['dropout'], plots=args_dict['plots'],amp=args_dict['amp'],\n",
        "                     cos_lr=args_dict['cos_lr'])"
      ]
    },
    {
      "cell_type": "markdown",
      "metadata": {
        "id": "6qSY2lB8zW9i"
      },
      "source": [
        "### Validating Yolo"
      ]
    },
    {
      "cell_type": "markdown",
      "metadata": {
        "id": "hlshMQXhvgxY"
      },
      "source": [
        "### Testing yolo"
      ]
    },
    {
      "cell_type": "code",
      "execution_count": null,
      "metadata": {
        "id": "UrPpvN98QpWM",
        "colab": {
          "base_uri": "https://localhost:8080/"
        },
        "outputId": "74d5fa18-3b88-488a-af5b-436013a59e0b"
      },
      "outputs": [
        {
          "output_type": "stream",
          "name": "stdout",
          "text": [
            "\n",
            "image 1/99 /content/drive/MyDrive/Files_2/Testing Image/0_0.png: 128x128 Normal 0.95, Mitosis 0.05, 23.8ms\n",
            "image 2/99 /content/drive/MyDrive/Files_2/Testing Image/0_1500.png: 128x128 Mitosis 0.77, Normal 0.23, 15.2ms\n",
            "image 3/99 /content/drive/MyDrive/Files_2/Testing Image/0_2500.png: 128x128 Normal 0.56, Mitosis 0.44, 12.3ms\n",
            "image 4/99 /content/drive/MyDrive/Files_2/Testing Image/0_3500.png: 128x128 Normal 0.77, Mitosis 0.23, 12.7ms\n",
            "image 5/99 /content/drive/MyDrive/Files_2/Testing Image/0_4000.png: 128x128 Mitosis 0.81, Normal 0.19, 13.5ms\n",
            "image 6/99 /content/drive/MyDrive/Files_2/Testing Image/0_5000.png: 128x128 Mitosis 0.93, Normal 0.07, 12.1ms\n",
            "image 7/99 /content/drive/MyDrive/Files_2/Testing Image/1000_1500.png: 128x128 Normal 0.51, Mitosis 0.49, 16.1ms\n",
            "image 8/99 /content/drive/MyDrive/Files_2/Testing Image/1000_3000.png: 128x128 Mitosis 0.82, Normal 0.18, 17.2ms\n",
            "image 9/99 /content/drive/MyDrive/Files_2/Testing Image/1000_4000.png: 128x128 Mitosis 0.87, Normal 0.13, 12.2ms\n",
            "image 10/99 /content/drive/MyDrive/Files_2/Testing Image/1000_4500.png: 128x128 Mitosis 0.99, Normal 0.01, 14.3ms\n",
            "image 11/99 /content/drive/MyDrive/Files_2/Testing Image/1000_500.png: 128x128 Mitosis 0.57, Normal 0.43, 15.7ms\n",
            "image 12/99 /content/drive/MyDrive/Files_2/Testing Image/1500_2000.png: 128x128 Normal 0.91, Mitosis 0.09, 14.5ms\n",
            "image 13/99 /content/drive/MyDrive/Files_2/Testing Image/1500_2500.png: 128x128 Normal 0.57, Mitosis 0.43, 17.4ms\n",
            "image 14/99 /content/drive/MyDrive/Files_2/Testing Image/1500_3500.png: 128x128 Normal 0.62, Mitosis 0.38, 14.9ms\n",
            "image 15/99 /content/drive/MyDrive/Files_2/Testing Image/1500_4000.png: 128x128 Mitosis 0.53, Normal 0.47, 12.4ms\n",
            "image 16/99 /content/drive/MyDrive/Files_2/Testing Image/1500_4500.png: 128x128 Mitosis 0.96, Normal 0.04, 12.9ms\n",
            "image 17/99 /content/drive/MyDrive/Files_2/Testing Image/1500_500.png: 128x128 Normal 0.94, Mitosis 0.06, 12.0ms\n",
            "image 18/99 /content/drive/MyDrive/Files_2/Testing Image/1500_5000.png: 128x128 Mitosis 0.95, Normal 0.05, 12.7ms\n",
            "image 19/99 /content/drive/MyDrive/Files_2/Testing Image/2000_1500.png: 128x128 Mitosis 0.99, Normal 0.01, 12.8ms\n",
            "image 20/99 /content/drive/MyDrive/Files_2/Testing Image/2000_3000.png: 128x128 Mitosis 0.65, Normal 0.35, 12.7ms\n",
            "image 21/99 /content/drive/MyDrive/Files_2/Testing Image/2000_3500.png: 128x128 Normal 0.83, Mitosis 0.17, 12.6ms\n",
            "image 22/99 /content/drive/MyDrive/Files_2/Testing Image/2000_4000.png: 128x128 Normal 0.79, Mitosis 0.21, 12.6ms\n",
            "image 23/99 /content/drive/MyDrive/Files_2/Testing Image/2000_4500.png: 128x128 Normal 0.61, Mitosis 0.39, 12.8ms\n",
            "image 24/99 /content/drive/MyDrive/Files_2/Testing Image/2000_500.png: 128x128 Normal 0.99, Mitosis 0.01, 12.8ms\n",
            "image 25/99 /content/drive/MyDrive/Files_2/Testing Image/2500_1500.png: 128x128 Mitosis 0.84, Normal 0.16, 12.4ms\n",
            "image 26/99 /content/drive/MyDrive/Files_2/Testing Image/2500_2000.png: 128x128 Mitosis 0.56, Normal 0.44, 14.1ms\n",
            "image 27/99 /content/drive/MyDrive/Files_2/Testing Image/2500_3000.png: 128x128 Mitosis 0.58, Normal 0.42, 12.1ms\n",
            "image 28/99 /content/drive/MyDrive/Files_2/Testing Image/2500_4500.png: 128x128 Mitosis 0.99, Normal 0.01, 12.5ms\n",
            "image 29/99 /content/drive/MyDrive/Files_2/Testing Image/2500_500.png: 128x128 Normal 0.90, Mitosis 0.10, 16.2ms\n",
            "image 30/99 /content/drive/MyDrive/Files_2/Testing Image/2500_5000.png: 128x128 Normal 0.71, Mitosis 0.29, 19.0ms\n",
            "image 31/99 /content/drive/MyDrive/Files_2/Testing Image/3000_1000.png: 128x128 Mitosis 0.89, Normal 0.11, 12.8ms\n",
            "image 32/99 /content/drive/MyDrive/Files_2/Testing Image/3000_2000.png: 128x128 Normal 0.59, Mitosis 0.41, 12.2ms\n",
            "image 33/99 /content/drive/MyDrive/Files_2/Testing Image/3000_2500.png: 128x128 Mitosis 0.82, Normal 0.18, 12.9ms\n",
            "image 34/99 /content/drive/MyDrive/Files_2/Testing Image/3000_4000.png: 128x128 Normal 0.55, Mitosis 0.45, 22.4ms\n",
            "image 35/99 /content/drive/MyDrive/Files_2/Testing Image/3000_4500.png: 128x128 Normal 0.69, Mitosis 0.31, 24.5ms\n",
            "image 36/99 /content/drive/MyDrive/Files_2/Testing Image/3000_500.png: 128x128 Normal 0.59, Mitosis 0.41, 45.1ms\n",
            "image 37/99 /content/drive/MyDrive/Files_2/Testing Image/3000_5000.png: 128x128 Mitosis 0.51, Normal 0.49, 16.6ms\n",
            "image 38/99 /content/drive/MyDrive/Files_2/Testing Image/3500_1000.png: 128x128 Mitosis 0.63, Normal 0.37, 25.4ms\n",
            "image 39/99 /content/drive/MyDrive/Files_2/Testing Image/3500_2000.png: 128x128 Normal 0.79, Mitosis 0.21, 16.3ms\n",
            "image 40/99 /content/drive/MyDrive/Files_2/Testing Image/3500_2500.png: 128x128 Mitosis 0.63, Normal 0.37, 14.6ms\n",
            "image 41/99 /content/drive/MyDrive/Files_2/Testing Image/3500_3000.png: 128x128 Mitosis 0.80, Normal 0.20, 13.0ms\n",
            "image 42/99 /content/drive/MyDrive/Files_2/Testing Image/3500_3500.png: 128x128 Mitosis 0.63, Normal 0.37, 14.7ms\n",
            "image 43/99 /content/drive/MyDrive/Files_2/Testing Image/3500_4000.png: 128x128 Normal 0.82, Mitosis 0.18, 23.9ms\n",
            "image 44/99 /content/drive/MyDrive/Files_2/Testing Image/3500_5000.png: 128x128 Mitosis 0.85, Normal 0.15, 48.2ms\n",
            "image 45/99 /content/drive/MyDrive/Files_2/Testing Image/4000_1000.png: 128x128 Mitosis 0.96, Normal 0.04, 26.3ms\n",
            "image 46/99 /content/drive/MyDrive/Files_2/Testing Image/4000_1500.png: 128x128 Normal 0.77, Mitosis 0.23, 34.6ms\n",
            "image 47/99 /content/drive/MyDrive/Files_2/Testing Image/4000_2000.png: 128x128 Normal 0.88, Mitosis 0.12, 44.6ms\n",
            "image 48/99 /content/drive/MyDrive/Files_2/Testing Image/4000_2500.png: 128x128 Mitosis 0.57, Normal 0.43, 13.4ms\n",
            "image 49/99 /content/drive/MyDrive/Files_2/Testing Image/4000_3000.png: 128x128 Mitosis 0.88, Normal 0.12, 15.0ms\n",
            "image 50/99 /content/drive/MyDrive/Files_2/Testing Image/4000_500.png: 128x128 Mitosis 0.51, Normal 0.49, 13.7ms\n",
            "image 51/99 /content/drive/MyDrive/Files_2/Testing Image/4500_0.png: 128x128 Normal 0.96, Mitosis 0.04, 13.9ms\n",
            "image 52/99 /content/drive/MyDrive/Files_2/Testing Image/4500_2000.png: 128x128 Mitosis 0.68, Normal 0.32, 13.9ms\n",
            "image 53/99 /content/drive/MyDrive/Files_2/Testing Image/4500_2500.png: 128x128 Mitosis 0.86, Normal 0.14, 14.5ms\n",
            "image 54/99 /content/drive/MyDrive/Files_2/Testing Image/4500_4000.png: 128x128 Mitosis 0.73, Normal 0.27, 14.1ms\n",
            "image 55/99 /content/drive/MyDrive/Files_2/Testing Image/4500_500.png: 128x128 Mitosis 0.80, Normal 0.20, 13.9ms\n",
            "image 56/99 /content/drive/MyDrive/Files_2/Testing Image/4500_5000.png: 128x128 Mitosis 0.84, Normal 0.16, 13.3ms\n",
            "image 57/99 /content/drive/MyDrive/Files_2/Testing Image/5000_0.png: 128x128 Mitosis 0.91, Normal 0.09, 13.7ms\n",
            "image 58/99 /content/drive/MyDrive/Files_2/Testing Image/5000_1000.png: 128x128 Mitosis 0.72, Normal 0.28, 13.9ms\n",
            "image 59/99 /content/drive/MyDrive/Files_2/Testing Image/5000_2000.png: 128x128 Mitosis 0.81, Normal 0.19, 13.8ms\n",
            "image 60/99 /content/drive/MyDrive/Files_2/Testing Image/5000_2500.png: 128x128 Mitosis 0.98, Normal 0.02, 14.5ms\n",
            "image 61/99 /content/drive/MyDrive/Files_2/Testing Image/5000_3000.png: 128x128 Normal 0.62, Mitosis 0.38, 14.9ms\n",
            "image 62/99 /content/drive/MyDrive/Files_2/Testing Image/5000_3500.png: 128x128 Normal 0.56, Mitosis 0.44, 14.2ms\n",
            "image 63/99 /content/drive/MyDrive/Files_2/Testing Image/5000_4000.png: 128x128 Mitosis 0.96, Normal 0.04, 15.2ms\n",
            "image 64/99 /content/drive/MyDrive/Files_2/Testing Image/5000_4500.png: 128x128 Normal 0.74, Mitosis 0.26, 14.4ms\n",
            "image 65/99 /content/drive/MyDrive/Files_2/Testing Image/5000_500.png: 128x128 Mitosis 0.91, Normal 0.09, 14.2ms\n",
            "image 66/99 /content/drive/MyDrive/Files_2/Testing Image/5000_5000.png: 128x128 Mitosis 0.80, Normal 0.20, 18.7ms\n",
            "image 67/99 /content/drive/MyDrive/Files_2/Testing Image/500_1500.png: 128x128 Normal 0.73, Mitosis 0.27, 40.5ms\n",
            "image 68/99 /content/drive/MyDrive/Files_2/Testing Image/500_2000.png: 128x128 Normal 0.67, Mitosis 0.33, 35.3ms\n",
            "image 69/99 /content/drive/MyDrive/Files_2/Testing Image/500_2500.png: 128x128 Normal 0.79, Mitosis 0.21, 33.9ms\n",
            "image 70/99 /content/drive/MyDrive/Files_2/Testing Image/500_3000.png: 128x128 Normal 0.64, Mitosis 0.36, 42.5ms\n",
            "image 71/99 /content/drive/MyDrive/Files_2/Testing Image/500_4000.png: 128x128 Mitosis 0.93, Normal 0.07, 13.6ms\n",
            "image 72/99 /content/drive/MyDrive/Files_2/Testing Image/500_4500.png: 128x128 Mitosis 0.86, Normal 0.14, 12.6ms\n",
            "image 73/99 /content/drive/MyDrive/Files_2/Testing Image/500_500.png: 128x128 Normal 0.68, Mitosis 0.32, 13.4ms\n",
            "image 74/99 /content/drive/MyDrive/Files_2/Testing Image/5500_1500.png: 128x128 Normal 0.79, Mitosis 0.21, 11.9ms\n",
            "image 75/99 /content/drive/MyDrive/Files_2/Testing Image/5500_2000.png: 128x128 Mitosis 0.93, Normal 0.07, 11.8ms\n",
            "image 76/99 /content/drive/MyDrive/Files_2/Testing Image/5500_2500.png: 128x128 Mitosis 0.67, Normal 0.33, 12.8ms\n",
            "image 77/99 /content/drive/MyDrive/Files_2/Testing Image/5500_3000.png: 128x128 Normal 0.64, Mitosis 0.36, 12.4ms\n",
            "image 78/99 /content/drive/MyDrive/Files_2/Testing Image/5500_3500.png: 128x128 Mitosis 0.90, Normal 0.10, 11.7ms\n",
            "image 79/99 /content/drive/MyDrive/Files_2/Testing Image/5500_4000.png: 128x128 Normal 0.54, Mitosis 0.46, 12.7ms\n",
            "image 80/99 /content/drive/MyDrive/Files_2/Testing Image/5500_4500.png: 128x128 Normal 0.54, Mitosis 0.46, 12.1ms\n",
            "image 81/99 /content/drive/MyDrive/Files_2/Testing Image/5500_5000.png: 128x128 Normal 0.90, Mitosis 0.10, 12.3ms\n",
            "image 82/99 /content/drive/MyDrive/Files_2/Testing Image/6000_1000.png: 128x128 Mitosis 0.62, Normal 0.38, 12.4ms\n",
            "image 83/99 /content/drive/MyDrive/Files_2/Testing Image/6000_1500.png: 128x128 Normal 0.67, Mitosis 0.33, 13.4ms\n",
            "image 84/99 /content/drive/MyDrive/Files_2/Testing Image/6000_2000.png: 128x128 Mitosis 0.85, Normal 0.15, 12.3ms\n",
            "image 85/99 /content/drive/MyDrive/Files_2/Testing Image/6000_2500.png: 128x128 Normal 0.97, Mitosis 0.03, 12.0ms\n",
            "image 86/99 /content/drive/MyDrive/Files_2/Testing Image/6000_3000.png: 128x128 Mitosis 0.66, Normal 0.34, 13.4ms\n",
            "image 87/99 /content/drive/MyDrive/Files_2/Testing Image/6000_3500.png: 128x128 Normal 0.74, Mitosis 0.26, 16.6ms\n",
            "image 88/99 /content/drive/MyDrive/Files_2/Testing Image/6000_4500.png: 128x128 Mitosis 0.71, Normal 0.29, 13.2ms\n",
            "image 89/99 /content/drive/MyDrive/Files_2/Testing Image/6000_500.png: 128x128 Normal 0.50, Mitosis 0.50, 12.8ms\n",
            "image 90/99 /content/drive/MyDrive/Files_2/Testing Image/6000_5000.png: 128x128 Normal 1.00, Mitosis 0.00, 13.6ms\n",
            "image 91/99 /content/drive/MyDrive/Files_2/Testing Image/6500_0.png: 128x128 Normal 1.00, Mitosis 0.00, 13.1ms\n",
            "image 92/99 /content/drive/MyDrive/Files_2/Testing Image/6500_2000.png: 128x128 Normal 0.60, Mitosis 0.40, 12.2ms\n",
            "image 93/99 /content/drive/MyDrive/Files_2/Testing Image/6500_2500.png: 128x128 Mitosis 0.97, Normal 0.03, 11.9ms\n",
            "image 94/99 /content/drive/MyDrive/Files_2/Testing Image/6500_3500.png: 128x128 Mitosis 0.66, Normal 0.34, 12.8ms\n",
            "image 95/99 /content/drive/MyDrive/Files_2/Testing Image/6500_4500.png: 128x128 Normal 0.99, Mitosis 0.01, 11.9ms\n",
            "image 96/99 /content/drive/MyDrive/Files_2/Testing Image/7000_0.png: 128x128 Normal 0.75, Mitosis 0.25, 12.2ms\n",
            "image 97/99 /content/drive/MyDrive/Files_2/Testing Image/7000_1000.png: 128x128 Mitosis 1.00, Normal 0.00, 12.4ms\n",
            "image 98/99 /content/drive/MyDrive/Files_2/Testing Image/7000_2000.png: 128x128 Mitosis 1.00, Normal 0.00, 13.1ms\n",
            "image 99/99 /content/drive/MyDrive/Files_2/Testing Image/7000_5000.png: 128x128 Mitosis 1.00, Normal 0.00, 12.1ms\n",
            "Speed: 6.3ms preprocess, 16.4ms inference, 0.1ms postprocess per image at shape (1, 3, 128, 128)\n"
          ]
        },
        {
          "output_type": "execute_result",
          "data": {
            "text/plain": [
              "ultralytics.engine.results.Results object with attributes:\n",
              "\n",
              "boxes: None\n",
              "keypoints: None\n",
              "masks: None\n",
              "names: {0: 'Mitosis', 1: 'Normal'}\n",
              "obb: None\n",
              "orig_img: array([[[139,  81, 152],\n",
              "        [138,  79, 153],\n",
              "        [138,  77, 151],\n",
              "        ...,\n",
              "        [150,  79, 159],\n",
              "        [152,  81, 161],\n",
              "        [154,  85, 166]],\n",
              "\n",
              "       [[128,  72, 153],\n",
              "        [127,  71, 152],\n",
              "        [124,  69, 148],\n",
              "        ...,\n",
              "        [164,  99, 175],\n",
              "        [166, 101, 180],\n",
              "        [170, 105, 184]],\n",
              "\n",
              "       [[121,  67, 150],\n",
              "        [121,  65, 148],\n",
              "        [116,  60, 141],\n",
              "        ...,\n",
              "        [172, 113, 188],\n",
              "        [173, 115, 193],\n",
              "        [176, 118, 196]],\n",
              "\n",
              "       ...,\n",
              "\n",
              "       [[170, 111, 179],\n",
              "        [165, 108, 177],\n",
              "        [159, 110, 178],\n",
              "        ...,\n",
              "        [229, 206, 228],\n",
              "        [232, 206, 230],\n",
              "        [233, 205, 234]],\n",
              "\n",
              "       [[170, 111, 179],\n",
              "        [165, 108, 177],\n",
              "        [161, 110, 178],\n",
              "        ...,\n",
              "        [226, 204, 228],\n",
              "        [229, 204, 230],\n",
              "        [229, 203, 233]],\n",
              "\n",
              "       [[174, 115, 183],\n",
              "        [169, 112, 181],\n",
              "        [163, 112, 180],\n",
              "        ...,\n",
              "        [224, 202, 227],\n",
              "        [226, 201, 229],\n",
              "        [226, 199, 232]]], dtype=uint8)\n",
              "orig_shape: (512, 512)\n",
              "path: '/content/drive/MyDrive/Files_2/Testing Image/0_0.png'\n",
              "probs: ultralytics.engine.results.Probs object\n",
              "save_dir: 'runs/classify/predict'\n",
              "speed: {'preprocess': 12.540340423583984, 'inference': 23.794174194335938, 'postprocess': 0.08344650268554688}"
            ]
          },
          "metadata": {},
          "execution_count": 13
        }
      ],
      "source": [
        "modelPath = '/content/runs/classify/train2/weights/best.pt'\n",
        "model = YOLO(modelPath)\n",
        "result = model.predict('/content/drive/MyDrive/Files_2/Testing Image')\n",
        "result[0]"
      ]
    },
    {
      "cell_type": "code",
      "source": [
        "import pickle\n",
        "# import threading"
      ],
      "metadata": {
        "id": "WOSR_BE9NOk2"
      },
      "execution_count": null,
      "outputs": []
    },
    {
      "cell_type": "code",
      "source": [
        "with open('model_pickle','wb') as f:\n",
        "  pickle.dump(model,f)"
      ],
      "metadata": {
        "colab": {
          "base_uri": "https://localhost:8080/",
          "height": 158
        },
        "id": "NdwwMEZhNY9t",
        "outputId": "845867a7-fd11-4461-f0d1-d5fb3f79d1b0"
      },
      "execution_count": null,
      "outputs": [
        {
          "output_type": "error",
          "ename": "TypeError",
          "evalue": "cannot pickle '_thread.lock' object",
          "traceback": [
            "\u001b[0;31m---------------------------------------------------------------------------\u001b[0m",
            "\u001b[0;31mTypeError\u001b[0m                                 Traceback (most recent call last)",
            "\u001b[0;32m<ipython-input-16-92c24f825054>\u001b[0m in \u001b[0;36m<cell line: 1>\u001b[0;34m()\u001b[0m\n\u001b[1;32m      1\u001b[0m \u001b[0;32mwith\u001b[0m \u001b[0mopen\u001b[0m\u001b[0;34m(\u001b[0m\u001b[0;34m'model_pickle'\u001b[0m\u001b[0;34m,\u001b[0m\u001b[0;34m'wb'\u001b[0m\u001b[0;34m)\u001b[0m \u001b[0;32mas\u001b[0m \u001b[0mf\u001b[0m\u001b[0;34m:\u001b[0m\u001b[0;34m\u001b[0m\u001b[0;34m\u001b[0m\u001b[0m\n\u001b[0;32m----> 2\u001b[0;31m   \u001b[0mpickle\u001b[0m\u001b[0;34m.\u001b[0m\u001b[0mdump\u001b[0m\u001b[0;34m(\u001b[0m\u001b[0mmodel\u001b[0m\u001b[0;34m,\u001b[0m\u001b[0mf\u001b[0m\u001b[0;34m)\u001b[0m\u001b[0;34m\u001b[0m\u001b[0;34m\u001b[0m\u001b[0m\n\u001b[0m",
            "\u001b[0;31mTypeError\u001b[0m: cannot pickle '_thread.lock' object"
          ]
        }
      ]
    },
    {
      "cell_type": "markdown",
      "metadata": {
        "id": "EcoxDpT7qEuw"
      },
      "source": [
        "## Storing Results"
      ]
    },
    {
      "cell_type": "code",
      "execution_count": null,
      "metadata": {
        "colab": {
          "base_uri": "https://localhost:8080/"
        },
        "id": "xz5Fyfo0UBxn",
        "outputId": "84fb6121-dae9-490d-e0a8-06c90533522d"
      },
      "outputs": [
        {
          "name": "stdout",
          "output_type": "stream",
          "text": [
            "tensor([0.0015, 0.9985], device='cuda:0')\n",
            "{0: 'Mitosis', 1: 'Normal'}\n"
          ]
        }
      ],
      "source": [
        "probss = result[0].probs\n",
        "print(probss.data)\n",
        "print(result[0].names)"
      ]
    },
    {
      "cell_type": "code",
      "execution_count": null,
      "metadata": {
        "id": "qSqxLG0HbB_B"
      },
      "outputs": [],
      "source": [
        "y_predictions = []\n",
        "for i in range(len(result)):\n",
        "  y_predictions.append(result[i].probs.data.argmax())"
      ]
    },
    {
      "cell_type": "code",
      "execution_count": null,
      "metadata": {
        "colab": {
          "base_uri": "https://localhost:8080/"
        },
        "id": "tKww2IJ5cJZo",
        "outputId": "42d26c05-84f5-4af3-8d6f-ab4dc40e53e7"
      },
      "outputs": [
        {
          "data": {
            "text/plain": [
              "57"
            ]
          },
          "execution_count": 12,
          "metadata": {},
          "output_type": "execute_result"
        }
      ],
      "source": [
        "len(y_predictions)"
      ]
    },
    {
      "cell_type": "code",
      "execution_count": null,
      "metadata": {
        "id": "dAqr-WYSgQDi"
      },
      "outputs": [],
      "source": [
        "y_prediction_labels = []\n",
        "for i in range(len(y_predictions)):\n",
        "  y_prediction_labels.append(y_predictions[i].item())\n",
        "y_prediction_labels"
      ]
    },
    {
      "cell_type": "code",
      "execution_count": null,
      "metadata": {
        "id": "-q8O5AKHcM_C"
      },
      "outputs": [],
      "source": [
        "#print(y_predictions[0])\n",
        "df = pd.read_csv('/content/drive/MyDrive/Test.csv')"
      ]
    },
    {
      "cell_type": "code",
      "execution_count": null,
      "metadata": {
        "id": "NaguscIbhX7U"
      },
      "outputs": [],
      "source": [
        "for i in range(len(y_prediction_labels)):\n",
        "  if y_prediction_labels[i] == 1:\n",
        "    y_prediction_labels[i] = 'Normal'\n",
        "  else:\n",
        "    y_prediction_labels[i] = 'Mitosis'"
      ]
    },
    {
      "cell_type": "code",
      "execution_count": null,
      "metadata": {
        "id": "gBxRKYwmh17I"
      },
      "outputs": [],
      "source": [
        "y_prediction_labels"
      ]
    },
    {
      "cell_type": "code",
      "execution_count": null,
      "metadata": {
        "id": "2HYt2-zWgrTv"
      },
      "outputs": [],
      "source": [
        "df['Label'] = y_prediction_labels"
      ]
    },
    {
      "cell_type": "code",
      "execution_count": null,
      "metadata": {
        "id": "L9mLD5xHiChe"
      },
      "outputs": [],
      "source": [
        "df"
      ]
    },
    {
      "cell_type": "code",
      "execution_count": null,
      "metadata": {
        "id": "Sf226WkXiKaV"
      },
      "outputs": [],
      "source": [
        "df.to_csv('yolox8_736_tuned.csv', index=False)"
      ]
    }
  ],
  "metadata": {
    "colab": {
      "collapsed_sections": [
        "TTKwYdgcp7HJ",
        "qJPA26VxvX_A",
        "sJHWsmvgvakA",
        "6qSY2lB8zW9i",
        "hlshMQXhvgxY",
        "EcoxDpT7qEuw"
      ],
      "provenance": [],
      "gpuType": "T4"
    },
    "kernelspec": {
      "display_name": "Python 3",
      "name": "python3"
    },
    "language_info": {
      "name": "python"
    },
    "accelerator": "GPU"
  },
  "nbformat": 4,
  "nbformat_minor": 0
}